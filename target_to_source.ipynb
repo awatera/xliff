{
 "cells": [
  {
   "cell_type": "code",
   "execution_count": null,
   "id": "ae8c03f8",
   "metadata": {},
   "outputs": [],
   "source": [
    "%pip install lxml"
   ]
  },
  {
   "cell_type": "code",
   "execution_count": null,
   "id": "bad450da",
   "metadata": {},
   "outputs": [],
   "source": [
    "import os\n",
    "from lxml import etree"
   ]
  },
  {
   "cell_type": "code",
   "execution_count": null,
   "id": "2d535b35",
   "metadata": {},
   "outputs": [],
   "source": [
    "# Путь к папке с XLIFF файлами. Для Google Colab по умолчанию '/content/'\n",
    "path = '/content/'"
   ]
  },
  {
   "cell_type": "code",
   "execution_count": null,
   "id": "6389b8b8",
   "metadata": {},
   "outputs": [],
   "source": [
    "# Список всех XLIFF файлов в указанной папке\n",
    "files = os.listdir(path)\n",
    "files_list = [os.path.join(path, f) for f in files if os.path.splitext(f)[1] == '.xliff']\n",
    "files_list"
   ]
  },
  {
   "cell_type": "code",
   "execution_count": null,
   "id": "21322ead",
   "metadata": {},
   "outputs": [],
   "source": [
    "# Проходим по каждому файлу в списке\n",
    "for input_file in files_list:\n",
    "    # Загружаем XML файл с использованием lxml\n",
    "    try:\n",
    "        tree = etree.parse(input_file)\n",
    "        root = tree.getroot()\n",
    "        # print(f\"Tree: {tree}\")\n",
    "        # print(f\"Root: {root}\")\n",
    "    except etree.XMLSyntaxError as e:\n",
    "        print(f\"Error parsing \\\"{os.path.basename(input_file)}\\\": {e}\")\n",
    "        continue\n",
    "    \n",
    "    namespaces = root.nsmap # Получаем словарь пространств имен из корня\n",
    "    # print(f\"Namespace: {namespaces}\")\n",
    "\n",
    "    # Находим элемент <file> и меняем source-language на target-language\n",
    "    file_elem = root.find('ns:file', namespaces={'ns': namespaces[None]})\n",
    "    if file_elem is not None:\n",
    "        source_lang = file_elem.attrib.get('source-language')\n",
    "        target_lang = file_elem.attrib.get('target-language')\n",
    "        if source_lang and target_lang:\n",
    "            file_elem.attrib['source-language'] = target_lang\n",
    "    \n",
    "    # Применяем это пространство имен в XPath\n",
    "    trans_units = root.xpath('//ns:body/ns:trans-unit', namespaces={'ns': namespaces[None]})\n",
    "\n",
    "    # Проходим по всем тегам <trans-unit>\n",
    "    for trans_unit in trans_units:\n",
    "        source = trans_unit.find('ns:source', namespaces={'ns': namespaces[None]})\n",
    "        target = trans_unit.find('ns:target', namespaces={'ns': namespaces[None]})\n",
    "        \n",
    "        # Если элементы source и target найдены\n",
    "        if source is not None and target is not None:\n",
    "            # Переносим текст из target в source\n",
    "            source.text = target.text\n",
    "\n",
    "            # Меняем состояние в target с 'final' на 'needs-translation'\n",
    "            if 'state' in target.attrib and target.attrib['state'] != 'needs-translation':\n",
    "                target.attrib['state'] = 'needs-translation'\n",
    "    \n",
    "    # Сохраняем изменённый файл в исходном формате, сохраняя декларацию XML и пространство имен\n",
    "    output_file = os.path.join(path, f\"output_{os.path.basename(input_file)}\")\n",
    "    tree.write(output_file, encoding=tree.docinfo.encoding if tree.docinfo.encoding else \"utf-8\", xml_declaration=True, pretty_print=True)\n",
    "    print(f\"\\\"{os.path.basename(input_file)}\\\": Completed\")"
   ]
  }
 ],
 "metadata": {
  "kernelspec": {
   "display_name": "Python 3",
   "language": "python",
   "name": "python3"
  },
  "language_info": {
   "codemirror_mode": {
    "name": "ipython",
    "version": 3
   },
   "file_extension": ".py",
   "mimetype": "text/x-python",
   "name": "python",
   "nbconvert_exporter": "python",
   "pygments_lexer": "ipython3",
   "version": "3.11.9"
  }
 },
 "nbformat": 4,
 "nbformat_minor": 5
}
